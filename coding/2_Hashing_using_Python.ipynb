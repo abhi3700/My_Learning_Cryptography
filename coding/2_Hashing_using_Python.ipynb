{
 "cells": [
  {
   "cell_type": "markdown",
   "metadata": {},
   "source": [
    "Hashing can be done in many different algorithms. So, let's try with **SHA256** in this way:"
   ]
  },
  {
   "cell_type": "code",
   "execution_count": 28,
   "metadata": {
    "scrolled": true
   },
   "outputs": [
    {
     "data": {
      "text/plain": [
       "'ba7816bf8f01cfea414140de5dae2223b00361a396177a9cb410ff61f20015ad'"
      ]
     },
     "execution_count": 28,
     "metadata": {},
     "output_type": "execute_result"
    }
   ],
   "source": [
    "from Crypto.Hash import SHA256\n",
    "SHA256.new(b'abc').hexdigest()"
   ]
  },
  {
   "cell_type": "markdown",
   "metadata": {},
   "source": [
    "## Applications -\n",
    "\n",
    "### Password management and Storage\n",
    "Used for matching the **password input** with the hash of the **password stored in the database**."
   ]
  },
  {
   "cell_type": "code",
   "execution_count": 27,
   "metadata": {},
   "outputs": [],
   "source": [
    "from Crypto.Hash import SHA256\n",
    "\n",
    "# a function defined for checking if correct password entered?\n",
    "def check_password(input_password, actual_password):\n",
    "    \n",
    "    # here, SHA256.new() function input as bytes. So, used str.encode() function for \n",
    "    # encoding string into bytes.\n",
    "    actual_password_hash = SHA256.new(str.encode(actual_password)).hexdigest() # hash of actual password\n",
    "    input_password_hash = SHA256.new(str.encode(input_password)).hexdigest() # hash of input password\n",
    "    \n",
    "    return input_password_hash == actual_password_hash"
   ]
  },
  {
   "cell_type": "markdown",
   "metadata": {},
   "source": [
    "Let's make a small application where one enters the password and its hash gets stored.\n",
    "While entering the password next time, it will return TRUE or FALSE by inserting into\n",
    "check_password() function."
   ]
  },
  {
   "cell_type": "code",
   "execution_count": 30,
   "metadata": {},
   "outputs": [
    {
     "name": "stdout",
     "output_type": "stream",
     "text": [
      "Enter the actual password:abhijit#1234\n",
      "Enter your actual password again:abhijit1234\n",
      "Sorry!... INCORRECT password\n",
      "\n",
      "\n",
      "Enter your actual password again:abhijit#1234\n",
      "Congrats!... Correct password.\n"
     ]
    }
   ],
   "source": [
    "# save the actual password\n",
    "a = input(\"Enter the actual password:\") # runs 1 time.\n",
    "\n",
    "# This loop ends only when the correct password is entered, otherwise it continues.\n",
    "while(1):\n",
    "    i = input(\"Enter your actual password again:\")\n",
    "\n",
    "    result = check_password(i, a)  # checks the password\n",
    "    \n",
    "    if result == True:\n",
    "        print(\"Congrats!... Correct password.\")\n",
    "        break\n",
    "    else:\n",
    "        print(\"Sorry!... INCORRECT password\\n\\n\")\n",
    "    \n",
    "# End of the code..."
   ]
  },
  {
   "cell_type": "markdown",
   "metadata": {},
   "source": [
    "### Rough Work"
   ]
  },
  {
   "cell_type": "code",
   "execution_count": 9,
   "metadata": {},
   "outputs": [
    {
     "data": {
      "text/plain": [
       "False"
      ]
     },
     "execution_count": 9,
     "metadata": {},
     "output_type": "execute_result"
    }
   ],
   "source": [
    "check_password(\"569\", \"123\")"
   ]
  },
  {
   "cell_type": "code",
   "execution_count": 20,
   "metadata": {},
   "outputs": [
    {
     "name": "stdout",
     "output_type": "stream",
     "text": [
      "Enter:123\n",
      "b'123'\n"
     ]
    }
   ],
   "source": [
    "#a = input(\"Enter the actual password:{}\".format(\"\"))\n",
    "b = input(\"Enter:\")\n",
    "c = str.encode(b)\n",
    "print(c)"
   ]
  },
  {
   "cell_type": "code",
   "execution_count": 19,
   "metadata": {},
   "outputs": [
    {
     "data": {
      "text/plain": [
       "str"
      ]
     },
     "execution_count": 19,
     "metadata": {},
     "output_type": "execute_result"
    }
   ],
   "source": [
    "type(b)"
   ]
  },
  {
   "cell_type": "code",
   "execution_count": null,
   "metadata": {},
   "outputs": [],
   "source": []
  }
 ],
 "metadata": {
  "kernelspec": {
   "display_name": "Python [conda env:learn-cryptography]",
   "language": "python",
   "name": "conda-env-learn-cryptography-py"
  },
  "language_info": {
   "codemirror_mode": {
    "name": "ipython",
    "version": 3
   },
   "file_extension": ".py",
   "mimetype": "text/x-python",
   "name": "python",
   "nbconvert_exporter": "python",
   "pygments_lexer": "ipython3",
   "version": "3.6.3"
  }
 },
 "nbformat": 4,
 "nbformat_minor": 2
}
