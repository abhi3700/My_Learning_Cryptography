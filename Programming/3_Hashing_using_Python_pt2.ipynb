{
 "cells": [
  {
   "cell_type": "markdown",
   "metadata": {},
   "source": [
    "# Hashing a file's content\n",
    "link - https://www.pythoncentral.io/hashing-files-with-python/"
   ]
  },
  {
   "cell_type": "code",
   "execution_count": 135,
   "metadata": {},
   "outputs": [],
   "source": [
    "import os\n",
    "\n",
    "# Importing hash algorithms - MD5, SHA1, SHA224, SHA256, SHA384, SHA512\n",
    "from Crypto.Hash import MD5     \n",
    "from Crypto.Hash import SHA1   \n",
    "from Crypto.Hash import SHA224\n",
    "from Crypto.Hash import SHA256\n",
    "from Crypto.Hash import SHA384\n",
    "from Crypto.Hash import SHA512"
   ]
  },
  {
   "cell_type": "code",
   "execution_count": 137,
   "metadata": {},
   "outputs": [],
   "source": [
    "# A function calculating the file size in bytes.\n",
    "def get_file_size(fname):\n",
    "    return os.path.getsize(fname)\n",
    "    \n",
    "# define a function that reads data from a file and hash it.\n",
    "def get_file_hash(hash_algorithm):\n",
    "    filename = input(\"Enter the filename with extension: \")\n",
    "    h = hash_algorithm.new() \n",
    "    chunk_size = get_file_size(filename) # size of file in bytes.\n",
    "    \n",
    "    # getting file's chunk in bytes. 'rb' indicates binary.\n",
    "    with open(filename, 'rb') as fh:  # rb means file is read in binary  mode i.e. bytes as input for hashing\n",
    "        while True:\n",
    "            chunk = fh.read(chunk_size)\n",
    "            if len(chunk) == 0:\n",
    "                break\n",
    "            h.update(chunk)\n",
    "    return h.hexdigest()    "
   ]
  },
  {
   "cell_type": "code",
   "execution_count": 147,
   "metadata": {
    "scrolled": true
   },
   "outputs": [
    {
     "name": "stdout",
     "output_type": "stream",
     "text": [
      "Enter the filename with extension: bitcoin.png\n",
      "Hash: 11961d79a8fde725e878473bd3497adff1fb6d362c1378e9eb182c870a617a2a\n",
      "and it's length is: 64 bytes or 256 bit\n"
     ]
    }
   ],
   "source": [
    "file_hash = get_file_hash(SHA256)\n",
    "len_hash = len(file_hash)\n",
    "print(\"Hash: \" + file_hash + \"\\nand it's length is: \" + str(len_hash) + \" bytes\" + \" or \" + str(len_hash*4) + \" bit\" )"
   ]
  },
  {
   "cell_type": "markdown",
   "metadata": {},
   "source": [
    "**ROUGH WORK**"
   ]
  },
  {
   "cell_type": "code",
   "execution_count": 59,
   "metadata": {},
   "outputs": [],
   "source": [
    "fh = open(\"new.txt\", \"w+\")\n",
    "linesoftext = [\n",
    "    \"Bitcoin\",\n",
    "    \"Ethereum\",\n",
    "    \"Ripple\",\n",
    "    \"Litecoin\",\n",
    "    \"I am a blockchain enthusiast\"\n",
    "]\n",
    "fh.writelines(linesoftext)\n",
    "fh.read()\n",
    "fh.close()"
   ]
  },
  {
   "cell_type": "code",
   "execution_count": 51,
   "metadata": {},
   "outputs": [
    {
     "name": "stdout",
     "output_type": "stream",
     "text": [
      "BitcoinEthereumRippleLitecoinI am a blockchain enthusiast\n"
     ]
    }
   ],
   "source": [
    "file = open(\"new.txt\", 'r')\n",
    "print(file.read())"
   ]
  },
  {
   "cell_type": "code",
   "execution_count": 119,
   "metadata": {},
   "outputs": [
    {
     "name": "stdout",
     "output_type": "stream",
     "text": [
      "Name: abhijit\n"
     ]
    }
   ],
   "source": [
    "i = str.encode(input(\"Name: \"))"
   ]
  },
  {
   "cell_type": "code",
   "execution_count": 124,
   "metadata": {},
   "outputs": [
    {
     "data": {
      "text/plain": [
       "module"
      ]
     },
     "execution_count": 124,
     "metadata": {},
     "output_type": "execute_result"
    }
   ],
   "source": [
    "type(SHA256)"
   ]
  },
  {
   "cell_type": "markdown",
   "metadata": {},
   "source": [
    "## References\n",
    "* [Python and cryptography with pycrypto](https://www.laurentluce.com/posts/python-and-cryptography-with-pycrypto/)\n",
    "* [Hashing Strings with Python](https://www.pythoncentral.io/hashing-strings-with-python/)"
   ]
  },
  {
   "cell_type": "code",
   "execution_count": null,
   "metadata": {},
   "outputs": [],
   "source": []
  }
 ],
 "metadata": {
  "kernelspec": {
   "display_name": "Python [conda env:learn-cryptography]",
   "language": "python",
   "name": "conda-env-learn-cryptography-py"
  },
  "language_info": {
   "codemirror_mode": {
    "name": "ipython",
    "version": 3
   },
   "file_extension": ".py",
   "mimetype": "text/x-python",
   "name": "python",
   "nbconvert_exporter": "python",
   "pygments_lexer": "ipython3",
   "version": "3.6.3"
  }
 },
 "nbformat": 4,
 "nbformat_minor": 2
}
