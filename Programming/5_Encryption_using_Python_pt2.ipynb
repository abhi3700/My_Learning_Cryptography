{
 "cells": [
  {
   "cell_type": "markdown",
   "metadata": {},
   "source": [
    "## Stream Cipher\n",
    "### Introduction\n",
    "\n",
    "[Source](http://searchsecurity.techtarget.com/definition/stream-cipher)\n",
    "> A stream cipher is a method of encrypting text (to produce ciphertext) in which a cryptographic key and algorithm are applied to **each binary digit in a data stream, one bit at a time**. This method is not much used in modern cryptography. The main alternative method is the block cipher in which a key and algorithm are applied to blocks of data rather than individual bits in a stream.\n",
    "\n",
    "For more, read [Wiki](https://en.wikipedia.org/wiki/Stream_cipher)\n",
    "\n",
    "**Applications: ** \n",
    "Read this [PAPER](https://pdfs.semanticscholar.org/83bf/cf8cf702a1ae73e470d9370de6d1c33d6cdf.pdf)\n",
    ">  Stream cipher is usually used in limited resource\n",
    "environment, such as cell phones, network stream media,\n",
    "wireless network and mobile devices and so on.\n",
    "\n",
    "**Advanced Encryption Standard (AES)** is an algorithm, successor of **DES** (discussed in the previous [tutorial](https://utopian.io/utopian-io/@abhi3700/learn-cryptography-4-encryption-using-python-or-symmetric-or-block-cipher)). It was invented due to the following 2 reasons:\n",
    "* there was some security problem in **DES** i.e. attack through brute-force.\n",
    "* AES is based on a design principle known as a substitution-permutation network, a combination of both substitution and permutation, and is fast in both software and hardware. For more, read [this](https://www.schneier.com/academic/paperfiles/paper-twofish-final.pdf)\n",
    "\n",
    "Features:\n",
    "* **key size** - 128-bits (16-bytes), 192-bits (24-bytes) or 256 bits (32-bytes).\n",
    "* **block size** - 128 bits\n",
    "* **rounds** - 10, 12 or 14 (depending on key size) respectively.\n",
    "\n",
    "> **AES** has been adopted by the U.S. government and is now used worldwide. It supersedes the **Data Encryption Standard (DES)**, which was published in 1977. The algorithm described by AES is a symmetric-key algorithm, meaning the same key is used for both encrypting and decrypting the data. [Source](https://en.wikipedia.org/wiki/Advanced_Encryption_Standard)\n",
    "\n",
    "Here, we will use the **AES** algorithm (CTR mode) for stream cipher. For more, read [AES as A Stream Cipher](https://pdfs.semanticscholar.org/83bf/cf8cf702a1ae73e470d9370de6d1c33d6cdf.pdf)\n",
    ">  As a well-known alternative, by feeding back its\n",
    "key stream, block cipher could be adopted as a stream cipher.\n",
    "So in this paper, we use Counter Mode (CTR) AES to make it\n",
    "as a stream cipher. \n",
    "\n",
    "### Coding"
   ]
  },
  {
   "cell_type": "code",
   "execution_count": 2,
   "metadata": {},
   "outputs": [],
   "source": [
    "# import the AES library\n",
    "import pyaes"
   ]
  },
  {
   "cell_type": "code",
   "execution_count": 24,
   "metadata": {},
   "outputs": [
    {
     "name": "stdout",
     "output_type": "stream",
     "text": [
      "Enter the plain text: abhijit\n",
      "\n",
      " The Encrypted text (in bytes): \n",
      " b'\\xd6-\\x8b\\xa0F)\\xc3'\n",
      "\n",
      " The Decrypted text (in bytes): \n",
      " b'abhijit'\n"
     ]
    }
   ],
   "source": [
    "# Enter plain text of any byte (stream)\n",
    "i = input(\"Enter the plain text: \")  \n",
    "\n",
    "# A 256 bit (32 byte) key chosen\n",
    "key = \"abhijit#4387926131r513f124597851\"\n",
    "\n",
    "# CTR mode chosen for stream cipher\n",
    "aes = pyaes.AESModeOfOperationCTR(str.encode(key))\n",
    "\n",
    "# cipher text creation\n",
    "e = aes.encrypt(i)\n",
    "# or, use this directly\n",
    "# e = pyaes.AESModeOfOperationCTR(str.encode(key)).encrypt(i)\n",
    "\n",
    "print(\"\\n The Encrypted text (in bytes): \\n\", e)\n",
    "\n",
    "\n",
    "# decrypting cipher text\n",
    "# The counter mode of operation maintains state, so decryption requires a new instance be created\n",
    "aes = pyaes.AESModeOfOperationCTR(str.encode(key))\n",
    "d = aes.decrypt(e)\n",
    "# or, use this directly\n",
    "#d = pyaes.AESModeOfOperationCTR(str.encode(key)).decrypt(e)\n",
    "\n",
    "print(\"\\n The Decrypted text (in bytes): \\n\", d)"
   ]
  },
  {
   "cell_type": "markdown",
   "metadata": {},
   "source": [
    "##### NOTE: The counter mode ```aes = pyaes.AESModeOfOperationCTR(str.encode(key))``` has to be initialised during encryption & decryption as well.\n",
    "\n",
    "Yet, we have not used the initial counter value in the CTR mode while creating the **AES** key for encryption.\n",
    "We will do that in the following code.\n",
    "\n",
    "[Source](https://www.cryptopp.com/wiki/CTR_Mode)\n",
    "> CTR is counter mode. CTR mode was standardized in 2001 by NIST in SP 800-38A. CTR mode uses a counter rather than a traditional IV. The counter has additional properties, including a nonce and initial counter block. The mode does not require padding the plain text to the block size of the cipher."
   ]
  },
  {
   "cell_type": "code",
   "execution_count": 28,
   "metadata": {
    "scrolled": true
   },
   "outputs": [
    {
     "name": "stdout",
     "output_type": "stream",
     "text": [
      "Enter the plain text: abhijit\n",
      "\n",
      " The Encrypted text (in bytes): \n",
      " b\"\\xc6\\xe5\\x91\\xb6f'\\x1a\"\n",
      "\n",
      " The Decrypted text (in bytes): \n",
      " b'abhijit'\n"
     ]
    }
   ],
   "source": [
    "# Enter plain text of any byte (stream)\n",
    "i = input(\"Enter the plain text: \")  \n",
    "\n",
    "# A 256 bit (32 byte) key chosen\n",
    "key = \"abhijit#4387926131r513f124597851\"\n",
    "\n",
    "# To use a custom initial value\n",
    "counter = pyaes.Counter(initial_value = 100)\n",
    "\n",
    "# CTR mode chosen for stream cipher\n",
    "aes = pyaes.AESModeOfOperationCTR(str.encode(key), counter= counter)\n",
    "\n",
    "# cipher text creation\n",
    "e = aes.encrypt(i)\n",
    "# or, use this directly\n",
    "# e = pyaes.AESModeOfOperationCTR(str.encode(key)).encrypt(i)\n",
    "\n",
    "print(\"\\n The Encrypted text (in bytes): \\n\", e)\n",
    "\n",
    "\n",
    "# decrypting cipher text\n",
    "# The counter mode of operation maintains state, so decryption requires a new instance be created\n",
    "counter = pyaes.Counter(initial_value = 100)\n",
    "aes = pyaes.AESModeOfOperationCTR(str.encode(key), counter= counter)\n",
    "d = aes.decrypt(e)\n",
    "# or, use this directly\n",
    "#d = pyaes.AESModeOfOperationCTR(str.encode(key), counter= counter).decrypt(e)\n",
    "\n",
    "print(\"\\n The Decrypted text (in bytes): \\n\", d)"
   ]
  },
  {
   "cell_type": "markdown",
   "metadata": {},
   "source": [
    "##### NOTE: The counter value has to be initialised during encryption & decryption as well. i.e.\n",
    "```python\n",
    "counter = pyaes.Counter(initial_value = 100)\n",
    "aes = pyaes.AESModeOfOperationCTR(str.encode(key), counter= counter)\n",
    "```"
   ]
  },
  {
   "cell_type": "markdown",
   "metadata": {},
   "source": [
    "### Rough work"
   ]
  },
  {
   "cell_type": "code",
   "execution_count": 20,
   "metadata": {},
   "outputs": [
    {
     "name": "stdout",
     "output_type": "stream",
     "text": [
      "Enter the text: abhijit\n",
      "the encrypted text:  b'\\xd6-\\x8b\\xa0F)\\xc3'\n",
      "The decrypted text b'abhijit'\n"
     ]
    }
   ],
   "source": [
    "i = input(\"Enter the text: \")\n",
    "\n",
    "# key\n",
    "key = \"abhijit#4387926131r513f124597851\"\n",
    "\n",
    "e = pyaes.AESModeOfOperationCTR(str.encode(key)).encrypt(i)\n",
    "print(\"the encrypted text: \", e)\n",
    "\n",
    "\n",
    "d = pyaes.AESModeOfOperationCTR(str.encode(key)).decrypt(e)\n",
    "print(\"The decrypted text\", d)"
   ]
  },
  {
   "cell_type": "code",
   "execution_count": null,
   "metadata": {},
   "outputs": [],
   "source": []
  }
 ],
 "metadata": {
  "kernelspec": {
   "display_name": "Python [conda env:learn-cryptography]",
   "language": "python",
   "name": "conda-env-learn-cryptography-py"
  },
  "language_info": {
   "codemirror_mode": {
    "name": "ipython",
    "version": 3
   },
   "file_extension": ".py",
   "mimetype": "text/x-python",
   "name": "python",
   "nbconvert_exporter": "python",
   "pygments_lexer": "ipython3",
   "version": "3.6.3"
  }
 },
 "nbformat": 4,
 "nbformat_minor": 2
}
