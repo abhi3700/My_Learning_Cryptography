{
 "cells": [
  {
   "cell_type": "markdown",
   "metadata": {},
   "source": [
    "# Encryption using Python\n",
    "## Symmetric \n",
    "There are 2 types of ciphers used - **Block** and **Stream**.\n",
    "* Block - fixed size (8 or 16 bytes). see [Wiki](https://en.wikipedia.org/wiki/Block_cipher)\n",
    "* Stream - byte-by-byte. see [Wiki](https://en.wikipedia.org/wiki/Stream_cipher)\n",
    "\n",
    "### Block ciphers\n",
    "Let's use the simplest algorithm first i.e. **DES**.\n",
    "\n",
    "**Data Encryption Standard (DES)** is a symmetric encryption algorithm. \n",
    "![](https://i.imgsafe.org/31/310153471d.jpeg)\n",
    "\n",
    "In the image above, it is described:\n",
    "* uses 16 round [Fiestal](https://en.wikipedia.org/wiki/Feistel_cipher) structure (i.e. symmetric encryption)\n",
    "* Plain-text --> 64-bit or 8-bytes (i.e. multiple of 8 in length, otherwise ERROR occurs).\n",
    "* key --> 64-bit or 8-bytes (actually 56-bit, rest 8 bits are not used).\n",
    "* Cipher-text --> 64-bit or 8-bytes.\n",
    "\n",
    "![](https://i.imgsafe.org/31/3132b80dff.png)\n",
    "\n",
    "#### Installation\n",
    "Install an additional library for DES algorithm using pip in cmd as follows:\n",
    "```pip install pydes``` \n",
    "For more, refer [here](https://github.com/toddw-as/pyDes)\n",
    "\n",
    "> **Performance**:The code (of this package) is not written for speed or performance, so not for those needing a fast DES implementation, but rather a handy portable solution ideal for small usages. The speed at which pyDes encrypts/decrypts is around 10Kb/s (using the DES method) - that's very SLOW!!"
   ]
  },
  {
   "cell_type": "markdown",
   "metadata": {},
   "source": [
    "#### Coding"
   ]
  },
  {
   "cell_type": "code",
   "execution_count": 89,
   "metadata": {},
   "outputs": [],
   "source": [
    "# import the DES library using a customized package\n",
    "import pyDes"
   ]
  },
  {
   "cell_type": "code",
   "execution_count": 90,
   "metadata": {},
   "outputs": [
    {
     "name": "stdout",
     "output_type": "stream",
     "text": [
      "Enter any string: abhijit\n"
     ]
    }
   ],
   "source": [
    "# input\n",
    "i = input(\"Enter any string: \")\n",
    "\n",
    "# Padding function: add ' ' until the string length is multiples of 8\n",
    "def padded_text(s):\n",
    "    while len(s)%8 !=0 :\n",
    "        s += ' '\n",
    "    return s\n",
    "\n",
    "p = padded_text(i)"
   ]
  },
  {
   "cell_type": "markdown",
   "metadata": {},
   "source": [
    "There are different modes of generating keys - \n",
    "\n",
    "##### [ECB](https://en.wikipedia.org/wiki/Block_cipher_mode_of_operation#Electronic_Codebook_(ECB)) \n",
    ">  The message is divided into blocks, and each block is encrypted separately.\n",
    "\n",
    "![](https://i.imgsafe.org/36/36df8956d5.png)\n",
    "![](https://i.imgsafe.org/36/36e7017b5b.png)"
   ]
  },
  {
   "cell_type": "code",
   "execution_count": 91,
   "metadata": {},
   "outputs": [
    {
     "name": "stdout",
     "output_type": "stream",
     "text": [
      "\n",
      " The encrypted string(in bytes) - \n",
      " b'%\\x1cK~L\\x0c\\x1fT'\n",
      "\n",
      " The actual input(in bytes) -  \n",
      " b'abhijit '\n"
     ]
    }
   ],
   "source": [
    "# key should be 8 bytes long.\n",
    "k_ecb = pyDes.des(\"DESCRYPT\", pyDes.ECB, \"\\0\\0\\0\\0\\0\\0\\0\\0\", pad=None, padmode=None)\n",
    "\n",
    "# encrypted data i.e. in bytes\n",
    "e_ecb = k_ecb.encrypt(str.encode(p))\n",
    "print(\"\\n The encrypted string(in bytes) - \\n\", e_ecb)\n",
    "\n",
    "# extract the input text from the encrypted input using decryption\n",
    "d_ecb = k_ecb.decrypt(e_ecb)\n",
    "print(\"\\n The actual input(in bytes) -  \\n\", d_ecb)"
   ]
  },
  {
   "cell_type": "markdown",
   "metadata": {},
   "source": [
    "##### [CBC](https://en.wikipedia.org/wiki/Block_cipher_mode_of_operation#Cipher_Block_Chaining_(CBC))\n",
    "> each block of plaintext is XORed with the previous ciphertext block before being encrypted. \n",
    "\n",
    "![](https://i.imgsafe.org/37/3710b5f07b.png)\n",
    "![](https://i.imgsafe.org/37/371537706a.png)"
   ]
  },
  {
   "cell_type": "code",
   "execution_count": 92,
   "metadata": {},
   "outputs": [
    {
     "name": "stdout",
     "output_type": "stream",
     "text": [
      "\n",
      " The encrypted string(in bytes) - \n",
      " b'\\x1d\\x9b\\x07=\\xe6\\n\\xfb\\x13'\n",
      "\n",
      " The actual input(in bytes) -  \n",
      " b'abhijit '\n"
     ]
    }
   ],
   "source": [
    "# key should be 8 bytes long. IV vector given some value.\n",
    "k_cbc = pyDes.des(\"DESCRYPT\", pyDes.CBC,\"\\0\\0\\0\\0\\0\\1\\0\\0\" , pad=None, padmode=None)\n",
    "\n",
    "# encrypted data i.e. in bytes\n",
    "e_cbc = k_cbc.encrypt(str.encode(p))\n",
    "print(\"\\n The encrypted string(in bytes) - \\n\", e_cbc)\n",
    "\n",
    "# extract the input text from the encrypted input using decryption\n",
    "d_cbc = k_cbc.decrypt(e_cbc)\n",
    "print(\"\\n The actual input(in bytes) -  \\n\", d_cbc)"
   ]
  },
  {
   "cell_type": "markdown",
   "metadata": {},
   "source": [
    "#### NOTE: Now a days, its key length is too short. And also not secure as it can be brute-forced with some effort.\n",
    "For more, read [here](http://www.freeswan.org/freeswan_trees/freeswan-1.5/doc/DES.html).\n",
    "\n",
    " **Triple DES (3DES)** is an improved version of **DES**. \n",
    " It is secure. key-length is long in this case.\n",
    " See [Wiki](https://en.wikipedia.org/wiki/Triple_DES)\n",
    " >  applies the DES cipher algorithm three times to each data block.\n"
   ]
  },
  {
   "cell_type": "code",
   "execution_count": null,
   "metadata": {},
   "outputs": [],
   "source": []
  },
  {
   "cell_type": "markdown",
   "metadata": {},
   "source": [
    "### Rough work"
   ]
  },
  {
   "cell_type": "code",
   "execution_count": 36,
   "metadata": {},
   "outputs": [
    {
     "data": {
      "text/plain": [
       "str"
      ]
     },
     "execution_count": 36,
     "metadata": {},
     "output_type": "execute_result"
    }
   ],
   "source": [
    "type(i)"
   ]
  },
  {
   "cell_type": "code",
   "execution_count": 10,
   "metadata": {},
   "outputs": [
    {
     "data": {
      "text/plain": [
       "bytes"
      ]
     },
     "execution_count": 10,
     "metadata": {},
     "output_type": "execute_result"
    }
   ],
   "source": [
    "type(e)"
   ]
  },
  {
   "cell_type": "code",
   "execution_count": null,
   "metadata": {},
   "outputs": [],
   "source": []
  }
 ],
 "metadata": {
  "kernelspec": {
   "display_name": "Python [conda env:learn-cryptography]",
   "language": "python",
   "name": "conda-env-learn-cryptography-py"
  },
  "language_info": {
   "codemirror_mode": {
    "name": "ipython",
    "version": 3
   },
   "file_extension": ".py",
   "mimetype": "text/x-python",
   "name": "python",
   "nbconvert_exporter": "python",
   "pygments_lexer": "ipython3",
   "version": "3.6.3"
  }
 },
 "nbformat": 4,
 "nbformat_minor": 2
}
